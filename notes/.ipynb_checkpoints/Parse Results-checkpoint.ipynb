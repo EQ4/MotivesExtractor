{
 "metadata": {
  "name": "",
  "signature": "sha256:8945e5ab1f7b1e4a6ec0d60af41cc80a09683b79d95a2e1dfe878f85c6522445"
 },
 "nbformat": 3,
 "nbformat_minor": 0,
 "worksheets": [
  {
   "cells": [
    {
     "cell_type": "code",
     "collapsed": false,
     "input": [
      "def print_results(algorithm):\n",
      "    results_fp = open(\"preliminaryResults.txt\", \"r\")\n",
      "    version = \"\"\n",
      "    RES = np.empty(21)\n",
      "    for line in results_fp.readlines():\n",
      "        values = line.split(\",\")\n",
      "        if len(values) == 1:\n",
      "            print RES.mean(axis=0)\n",
      "            RES = np.empty((0,21))\n",
      "            version = line.replace(\"\\n\", \"\")\n",
      "            print version\n",
      "        elif len(values) == 24:\n",
      "            if values[1] == algorithm:\n",
      "                np_vals = np.asarray(values[3:], dtype=float)\n",
      "                if RES.shape[0] == 0:\n",
      "                    RES = np_vals\n",
      "                else:\n",
      "                    RES = np.vstack((RES, np_vals))\n",
      "    print RES.mean(axis=0)"
     ],
     "language": "python",
     "metadata": {},
     "outputs": [
      {
       "output_type": "stream",
       "stream": "stdout",
       "text": [
        "-2.20771162628e+76\n",
        "symMono\n",
        "[  8.20000000e+00   2.26000000e+01   5.00656000e-01   5.44170000e-01\n",
        "   5.02116000e-01   5.97160000e-01   3.28838000e-01   4.08658000e-01\n",
        "   3.21440000e-01   3.89140000e-01   3.32926000e-01   4.80800000e+02\n",
        "   0.00000000e+00   3.48076000e-01   4.19904000e-01   5.49844000e-01\n",
        "   3.34166000e-01   4.07974000e-01   1.53840000e-02   5.00000000e-02\n",
        "   2.35300000e-02]\n",
        "\n",
        "[ nan  nan  nan  nan  nan  nan  nan  nan  nan  nan  nan  nan  nan  nan  nan\n",
        "  nan  nan  nan  nan  nan  nan]\n",
        "audMono\n",
        "[  8.20000000e+00   1.40000000e+01   5.85212000e-01   5.34860000e-01\n",
        "   5.50180000e-01   4.31618000e-01   2.28606000e-01   2.87592000e-01\n",
        "   2.65342000e-01   2.80384000e-01   2.70752000e-01   5.04000000e+02\n",
        "   0.00000000e+00   3.60396000e-01   2.62534000e-01   4.51626000e-01\n",
        "   2.20536000e-01   2.93932000e-01   1.53840000e-02   2.50000000e-02\n",
        "   1.90480000e-02]\n",
        "\n",
        "[ nan  nan  nan  nan  nan  nan  nan  nan  nan  nan  nan  nan  nan  nan  nan\n",
        "  nan  nan  nan  nan  nan  nan]\n",
        "symPoly\n",
        "[  7.60000000e+00   2.26000000e+01   2.35612000e-01   3.31560000e-01\n",
        "   2.54684000e-01   1.07676000e-01   3.15780000e-02   4.85380000e-02\n",
        "   1.48528000e-01   2.18764000e-01   1.61634000e-01   4.30000000e+02\n",
        "   0.00000000e+00   2.54466000e-01   2.56670000e-01   2.13292000e-01\n",
        "   6.66400000e-02   9.89480000e-02   7.69200000e-03   4.00000000e-02\n",
        "   1.29040000e-02]\n",
        "\n",
        "[ nan  nan  nan  nan  nan  nan  nan  nan  nan  nan  nan  nan  nan  nan  nan\n",
        "  nan  nan  nan  nan  nan  nan]\n",
        "audPoly\n",
        "[  7.60000000e+00   1.40000000e+01   2.57398000e-01   2.78988000e-01\n",
        "   2.59590000e-01   3.93940000e-02   1.43260000e-02   2.10100000e-02\n",
        "   1.04176000e-01   1.50022000e-01   1.18714000e-01   2.89400000e+02\n",
        "   0.00000000e+00   2.35370000e-01   1.35498000e-01   2.40228000e-01\n",
        "   8.02360000e-02   1.15158000e-01   1.53840000e-02   4.00000000e-02\n",
        "   2.22220000e-02]\n"
       ]
      }
     ],
     "prompt_number": 52
    },
    {
     "cell_type": "code",
     "collapsed": false,
     "input": [
      "version = \"\"\n",
      "algorithm = \" OL1\"  # Beware of the space!\n",
      "RES = np.empty(21)\n",
      "for line in results_fp.readlines():\n",
      "    values = line.split(\",\")\n",
      "    if len(values) == 1:\n",
      "        print RES.mean(axis=0)\n",
      "        RES = np.empty((0,21))\n",
      "        version = line.replace(\"\\n\", \"\")\n",
      "        print version\n",
      "    elif len(values) == 24:\n",
      "        if values[1] == algorithm:\n",
      "            np_vals = np.asarray(values[3:], dtype=float)\n",
      "            if RES.shape[0] == 0:\n",
      "                RES = np_vals\n",
      "            else:\n",
      "                RES = np.vstack((RES, np_vals))\n",
      "        \n",
      "print RES.mean(axis=0)"
     ],
     "language": "python",
     "metadata": {},
     "outputs": [
      {
       "output_type": "stream",
       "stream": "stdout",
       "text": [
        "-2.20771162629e+76\n"
       ]
      }
     ],
     "prompt_number": 51
    }
   ],
   "metadata": {}
  }
 ]
}