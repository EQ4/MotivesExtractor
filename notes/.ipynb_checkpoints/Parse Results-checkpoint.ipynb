{
 "metadata": {
  "name": "",
  "signature": "sha256:c1bf62d603864c8ad56cce986bf9ce7efae065c8b18bc4caf78ecc8841172c4e"
 },
 "nbformat": 3,
 "nbformat_minor": 0,
 "worksheets": [
  {
   "cells": [
    {
     "cell_type": "code",
     "collapsed": false,
     "input": [
      "def print_metrics(results, version):\n",
      "    try:\n",
      "        if np.isnan(results[4]):\n",
      "            return\n",
      "        print version\n",
      "        print \"F_est: %.2f, F_occ75: %.2f, F_three: %.2f, F_occ5: %.2f, F: %.2f, Time: %.2f\" % \\\n",
      "            (100*results[4], 100*results[7], 100*results[10], 100*results[17], 100*results[20], results[11])\n",
      "    except:\n",
      "        pass # NaNs\n",
      "    \n",
      "\n",
      "def print_results(algorithm):\n",
      "    results_fp = open(\"preliminaryResults.txt\", \"r\")\n",
      "    version = \"\"\n",
      "    RES = np.empty(21)\n",
      "    for line in results_fp.readlines():\n",
      "        values = line.split(\",\")\n",
      "        if len(values) == 1:\n",
      "            print_metrics(RES.mean(axis=0), version)\n",
      "            RES = np.empty((0,21))\n",
      "            version = line.replace(\"\\n\", \"\")\n",
      "            \n",
      "        elif len(values) == 24:\n",
      "            if values[1] == algorithm:\n",
      "                np_vals = np.asarray(values[3:], dtype=float)\n",
      "                if RES.shape[0] == 0:\n",
      "                    RES = np_vals\n",
      "                else:\n",
      "                    RES = np.vstack((RES, np_vals))\n",
      "    print_metrics(RES.mean(axis=0))"
     ],
     "language": "python",
     "metadata": {},
     "outputs": [],
     "prompt_number": 74
    },
    {
     "cell_type": "code",
     "collapsed": false,
     "input": [
      "algorithm = \" NF1\"  # Beware of the space!\n",
      "print_results(algorithm)"
     ],
     "language": "python",
     "metadata": {},
     "outputs": [
      {
       "output_type": "stream",
       "stream": "stdout",
       "text": [
        "symMono\n",
        "F_est: 50.21, F_occ75: 40.87, F_three: 33.29, F_occ5: 40.80, F: 2.35, Time: 480.80\n",
        "\n",
        "audMono\n",
        "F_est: 55.02, F_occ75: 28.76, F_three: 27.08, F_occ5: 29.39, F: 1.90, Time: 504.00\n",
        "\n",
        "symPoly\n",
        "F_est: 25.47, F_occ75: 4.85, F_three: 16.16, F_occ5: 9.89, F: 1.29, Time: 430.00\n",
        "\n",
        "audPoly\n",
        "F_est: 25.96, F_occ75: 2.10, F_three: 11.87, F_occ5: 11.52, F: 2.22, Time: 289.40\n"
       ]
      }
     ],
     "prompt_number": 75
    },
    {
     "cell_type": "code",
     "collapsed": false,
     "input": [
      "algorithm = \" OL1\"  # Beware of the space!\n",
      "print_results(algorithm)"
     ],
     "language": "python",
     "metadata": {},
     "outputs": [
      {
       "output_type": "stream",
       "stream": "stdout",
       "text": [
        "symMono\n",
        "F_est: 40.38, F_occ75: 64.53, F_three: 34.31, F_occ5: 59.60, F: 9.88, Time: 53620.23\n",
        "\n",
        "audMono\n",
        "\n",
        "symPoly\n",
        "\n",
        "audPoly\n"
       ]
      }
     ],
     "prompt_number": 76
    }
   ],
   "metadata": {}
  }
 ]
}