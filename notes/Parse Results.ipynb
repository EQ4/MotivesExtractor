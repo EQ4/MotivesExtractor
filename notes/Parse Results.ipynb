{
 "metadata": {
  "name": "",
  "signature": "sha256:2ecb4d52b830f8bedcadaf09b82c889db80768f78345a0c211f654c1bb33c4c3"
 },
 "nbformat": 3,
 "nbformat_minor": 0,
 "worksheets": [
  {
   "cells": [
    {
     "cell_type": "code",
     "collapsed": false,
     "input": [
      "def print_results(algorithm):\n",
      "    results_fp = open(\"preliminaryResults.txt\", \"r\")\n",
      "    version = \"\"\n",
      "    RES = np.empty(21)\n",
      "    for line in results_fp.readlines():\n",
      "        values = line.split(\",\")\n",
      "        if len(values) == 1:\n",
      "            print RES.mean(axis=0)\n",
      "            RES = np.empty((0,21))\n",
      "            version = line.replace(\"\\n\", \"\")\n",
      "            print version\n",
      "        elif len(values) == 24:\n",
      "            if values[1] == algorithm:\n",
      "                np_vals = np.asarray(values[3:], dtype=float)\n",
      "                if RES.shape[0] == 0:\n",
      "                    RES = np_vals\n",
      "                else:\n",
      "                    RES = np.vstack((RES, np_vals))\n",
      "    print RES.mean(axis=0)"
     ],
     "language": "python",
     "metadata": {},
     "outputs": [],
     "prompt_number": 53
    },
    {
     "cell_type": "code",
     "collapsed": false,
     "input": [
      "algorithm = \" NF1\"  # Beware of the space!\n",
      "print_results(algorithm)"
     ],
     "language": "python",
     "metadata": {},
     "outputs": [
      {
       "output_type": "stream",
       "stream": "stdout",
       "text": [
        "7.14328233028e+246\n",
        "symMono\n",
        "[  8.20000000e+00   2.26000000e+01   5.00656000e-01   5.44170000e-01\n",
        "   5.02116000e-01   5.97160000e-01   3.28838000e-01   4.08658000e-01\n",
        "   3.21440000e-01   3.89140000e-01   3.32926000e-01   4.80800000e+02\n",
        "   0.00000000e+00   3.48076000e-01   4.19904000e-01   5.49844000e-01\n",
        "   3.34166000e-01   4.07974000e-01   1.53840000e-02   5.00000000e-02\n",
        "   2.35300000e-02]\n",
        "\n",
        "[ nan  nan  nan  nan  nan  nan  nan  nan  nan  nan  nan  nan  nan  nan  nan\n",
        "  nan  nan  nan  nan  nan  nan]\n",
        "audMono\n",
        "[  8.20000000e+00   1.40000000e+01   5.85212000e-01   5.34860000e-01\n",
        "   5.50180000e-01   4.31618000e-01   2.28606000e-01   2.87592000e-01\n",
        "   2.65342000e-01   2.80384000e-01   2.70752000e-01   5.04000000e+02\n",
        "   0.00000000e+00   3.60396000e-01   2.62534000e-01   4.51626000e-01\n",
        "   2.20536000e-01   2.93932000e-01   1.53840000e-02   2.50000000e-02\n",
        "   1.90480000e-02]\n",
        "\n",
        "[ nan  nan  nan  nan  nan  nan  nan  nan  nan  nan  nan  nan  nan  nan  nan\n",
        "  nan  nan  nan  nan  nan  nan]\n",
        "symPoly\n",
        "[  7.60000000e+00   2.26000000e+01   2.35612000e-01   3.31560000e-01\n",
        "   2.54684000e-01   1.07676000e-01   3.15780000e-02   4.85380000e-02\n",
        "   1.48528000e-01   2.18764000e-01   1.61634000e-01   4.30000000e+02\n",
        "   0.00000000e+00   2.54466000e-01   2.56670000e-01   2.13292000e-01\n",
        "   6.66400000e-02   9.89480000e-02   7.69200000e-03   4.00000000e-02\n",
        "   1.29040000e-02]\n",
        "\n",
        "[ nan  nan  nan  nan  nan  nan  nan  nan  nan  nan  nan  nan  nan  nan  nan\n",
        "  nan  nan  nan  nan  nan  nan]\n",
        "audPoly\n",
        "[  7.60000000e+00   1.40000000e+01   2.57398000e-01   2.78988000e-01\n",
        "   2.59590000e-01   3.93940000e-02   1.43260000e-02   2.10100000e-02\n",
        "   1.04176000e-01   1.50022000e-01   1.18714000e-01   2.89400000e+02\n",
        "   0.00000000e+00   2.35370000e-01   1.35498000e-01   2.40228000e-01\n",
        "   8.02360000e-02   1.15158000e-01   1.53840000e-02   4.00000000e-02\n",
        "   2.22220000e-02]\n"
       ]
      }
     ],
     "prompt_number": 54
    },
    {
     "cell_type": "code",
     "collapsed": false,
     "input": [
      "algorithm = \" OL1\"  # Beware of the space!\n",
      "print_results(algorithm)"
     ],
     "language": "python",
     "metadata": {},
     "outputs": [
      {
       "output_type": "stream",
       "stream": "stdout",
       "text": [
        "7.14328233028e+246\n",
        "symMono\n",
        "[  8.20000000e+00   6.46000000e+01   5.02478000e-01   4.53012000e-01\n",
        "   4.03846000e-01   7.03172000e-01   6.07708000e-01   6.45254000e-01\n",
        "   4.09388000e-01   3.96222000e-01   3.43090000e-01   5.36202303e+04\n",
        "   0.00000000e+00   2.80974000e-01   4.85850000e-01   6.30210000e-01\n",
        "   5.68440000e-01   5.96008000e-01   1.28058000e-01   1.90000000e-01\n",
        "   9.88460000e-02]\n",
        "\n",
        "[ nan  nan  nan  nan  nan  nan  nan  nan  nan  nan  nan  nan  nan  nan  nan\n",
        "  nan  nan  nan  nan  nan  nan]\n",
        "audMono\n",
        "[ nan  nan  nan  nan  nan  nan  nan  nan  nan  nan  nan  nan  nan  nan  nan\n",
        "  nan  nan  nan  nan  nan  nan]\n",
        "\n",
        "[ nan  nan  nan  nan  nan  nan  nan  nan  nan  nan  nan  nan  nan  nan  nan\n",
        "  nan  nan  nan  nan  nan  nan]\n",
        "symPoly\n",
        "[ nan  nan  nan  nan  nan  nan  nan  nan  nan  nan  nan  nan  nan  nan  nan\n",
        "  nan  nan  nan  nan  nan  nan]\n",
        "\n",
        "[ nan  nan  nan  nan  nan  nan  nan  nan  nan  nan  nan  nan  nan  nan  nan\n",
        "  nan  nan  nan  nan  nan  nan]\n",
        "audPoly\n",
        "[ nan  nan  nan  nan  nan  nan  nan  nan  nan  nan  nan  nan  nan  nan  nan\n",
        "  nan  nan  nan  nan  nan  nan]\n"
       ]
      }
     ],
     "prompt_number": 55
    }
   ],
   "metadata": {}
  }
 ]
}